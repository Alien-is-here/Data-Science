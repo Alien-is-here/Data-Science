{
  "nbformat": 4,
  "nbformat_minor": 0,
  "metadata": {
    "colab": {
      "provenance": []
    },
    "kernelspec": {
      "name": "python3",
      "display_name": "Python 3"
    },
    "language_info": {
      "name": "python"
    }
  },
  "cells": [
    {
      "cell_type": "markdown",
      "source": [
        "**Z_Test**"
      ],
      "metadata": {
        "id": "CFrpY6Yvdk0M"
      }
    },
    {
      "cell_type": "code",
      "execution_count": 15,
      "metadata": {
        "id": "-j10guYObh28"
      },
      "outputs": [],
      "source": [
        "import scipy.stats as st\n",
        "import numpy as np\n"
      ]
    },
    {
      "cell_type": "code",
      "source": [
        "sam_mean = 90\n",
        "pop_mean = 82\n",
        "std =20\n",
        "n = 81\n",
        "alpha = 0.05"
      ],
      "metadata": {
        "id": "ypstq-NLcpc4"
      },
      "execution_count": 16,
      "outputs": []
    },
    {
      "cell_type": "code",
      "source": [
        "z_cal = (sam_mean - pop_mean)/(std/(np.sqrt(n)))\n",
        "z_cal"
      ],
      "metadata": {
        "colab": {
          "base_uri": "https://localhost:8080/"
        },
        "id": "WtYg-iy7c70x",
        "outputId": "2acb6afe-5372-4b1b-e098-18743298b0b5"
      },
      "execution_count": 17,
      "outputs": [
        {
          "output_type": "execute_result",
          "data": {
            "text/plain": [
              "3.5999999999999996"
            ]
          },
          "metadata": {},
          "execution_count": 17
        }
      ]
    },
    {
      "cell_type": "code",
      "source": [
        "z_table = st.norm.ppf(1-alpha)\n",
        "z_table"
      ],
      "metadata": {
        "colab": {
          "base_uri": "https://localhost:8080/"
        },
        "id": "1ILf8T0LdL71",
        "outputId": "a1d77546-9697-4753-ea1e-fa4bde7c8c11"
      },
      "execution_count": 30,
      "outputs": [
        {
          "output_type": "execute_result",
          "data": {
            "text/plain": [
              "1.6448536269514722"
            ]
          },
          "metadata": {},
          "execution_count": 30
        }
      ]
    },
    {
      "cell_type": "code",
      "source": [
        "if z_cal > z_table:\n",
        "    print('Reject H0')\n",
        "else:\n",
        "    print('Accept H0')"
      ],
      "metadata": {
        "colab": {
          "base_uri": "https://localhost:8080/"
        },
        "id": "7gm_ynnPdTJ-",
        "outputId": "ab62cc46-c281-4342-a61e-46b53d06c98d"
      },
      "execution_count": 31,
      "outputs": [
        {
          "output_type": "stream",
          "name": "stdout",
          "text": [
            "Reject H0\n"
          ]
        }
      ]
    },
    {
      "cell_type": "markdown",
      "source": [
        "**T_Test**"
      ],
      "metadata": {
        "id": "T0yElUHWr6C6"
      }
    },
    {
      "cell_type": "code",
      "source": [
        "sam_mean = 248\n",
        "pop_mean = 250\n",
        "s_std =25\n",
        "num = 5\n",
        "alpha = 0.025"
      ],
      "metadata": {
        "id": "FltBUja4dafO"
      },
      "execution_count": 37,
      "outputs": []
    },
    {
      "cell_type": "code",
      "source": [
        "t_cal = (sam_mean - pop_mean)/(s_std/(np.sqrt(n)))\n",
        "t_cal"
      ],
      "metadata": {
        "colab": {
          "base_uri": "https://localhost:8080/"
        },
        "id": "G6meUR9ExYOY",
        "outputId": "f0dbfba1-c107-4bed-95ff-cf6f6d057edd"
      },
      "execution_count": 38,
      "outputs": [
        {
          "output_type": "execute_result",
          "data": {
            "text/plain": [
              "-0.72"
            ]
          },
          "metadata": {},
          "execution_count": 38
        }
      ]
    },
    {
      "cell_type": "code",
      "source": [
        "t_table = st.t.ppf(1-alpha, num-1)\n",
        "t_table = -(t_table)\n",
        "t_table"
      ],
      "metadata": {
        "colab": {
          "base_uri": "https://localhost:8080/"
        },
        "id": "qP9_PKi4xr0u",
        "outputId": "3d347911-86bc-4765-c9df-2530f3ddafa0"
      },
      "execution_count": 50,
      "outputs": [
        {
          "output_type": "execute_result",
          "data": {
            "text/plain": [
              "-2.7764451051977987"
            ]
          },
          "metadata": {},
          "execution_count": 50
        }
      ]
    },
    {
      "cell_type": "code",
      "source": [
        "if t_table < t_cal:\n",
        "    print('REJECT H0')\n",
        "else:\n",
        "    print('Accept H0')"
      ],
      "metadata": {
        "colab": {
          "base_uri": "https://localhost:8080/"
        },
        "id": "AQJZqCsiyGc0",
        "outputId": "149fb202-32ef-4685-a443-bdb32b5af6a5"
      },
      "execution_count": 42,
      "outputs": [
        {
          "output_type": "stream",
          "name": "stdout",
          "text": [
            "REJECT H0\n"
          ]
        }
      ]
    },
    {
      "cell_type": "markdown",
      "source": [
        "**Chi-Square Test**"
      ],
      "metadata": {
        "id": "3LH63ZYbKPiv"
      }
    },
    {
      "cell_type": "markdown",
      "source": [
        "**Problem # 1**"
      ],
      "metadata": {
        "id": "GwXCd4wAcmH_"
      }
    },
    {
      "cell_type": "code",
      "source": [
        "n = 6"
      ],
      "metadata": {
        "id": "2eteriXhPNqd"
      },
      "execution_count": null,
      "outputs": []
    },
    {
      "cell_type": "code",
      "source": [
        "df = n-1"
      ],
      "metadata": {
        "id": "wo3SJRuIKOBZ"
      },
      "execution_count": null,
      "outputs": []
    },
    {
      "cell_type": "code",
      "source": [
        "ob = np.array([22, 17, 20, 26, 22, 13])\n",
        "ex = np.array([20, 20, 20, 20, 20, 20])\n",
        "ob , ex"
      ],
      "metadata": {
        "colab": {
          "base_uri": "https://localhost:8080/"
        },
        "id": "9vZgKersPaxB",
        "outputId": "9d5a2faf-4597-421e-b5ed-3fcc509c828b"
      },
      "execution_count": 54,
      "outputs": [
        {
          "output_type": "execute_result",
          "data": {
            "text/plain": [
              "(array([22, 17, 20, 26, 22, 13]), array([20, 20, 20, 20, 20, 20]))"
            ]
          },
          "metadata": {},
          "execution_count": 54
        }
      ]
    },
    {
      "cell_type": "code",
      "source": [
        "np.sum((np.square(ob-ex))/ex)"
      ],
      "metadata": {
        "colab": {
          "base_uri": "https://localhost:8080/"
        },
        "id": "1xPutOzNKKx0",
        "outputId": "218fe507-cf37-4725-a04d-d51dafb967c4"
      },
      "execution_count": 55,
      "outputs": [
        {
          "output_type": "execute_result",
          "data": {
            "text/plain": [
              "5.1000000000000005"
            ]
          },
          "metadata": {},
          "execution_count": 55
        }
      ]
    },
    {
      "cell_type": "markdown",
      "source": [
        "**Problem # 2**"
      ],
      "metadata": {
        "id": "rHS2l1gdcybJ"
      }
    },
    {
      "cell_type": "code",
      "source": [
        "Male =np.array([40, 45, 25, 10])\n",
        "Female = np.array([35, 30, 20, 30])\n",
        "Male , Female"
      ],
      "metadata": {
        "colab": {
          "base_uri": "https://localhost:8080/"
        },
        "id": "y-uJDB_6yzpa",
        "outputId": "afdb7687-2bda-47c6-fbd1-241180c5285b"
      },
      "execution_count": 58,
      "outputs": [
        {
          "output_type": "execute_result",
          "data": {
            "text/plain": [
              "(array([40, 45, 25, 10]), array([35, 30, 20, 30]))"
            ]
          },
          "metadata": {},
          "execution_count": 58
        }
      ]
    },
    {
      "cell_type": "code",
      "source": [
        "N = np.sum(Male) + np.sum(Female)\n",
        "N"
      ],
      "metadata": {
        "colab": {
          "base_uri": "https://localhost:8080/"
        },
        "id": "tVhUq34D5tef",
        "outputId": "ad87ab68-803d-4beb-d588-fb60fd7b7b2c"
      },
      "execution_count": 59,
      "outputs": [
        {
          "output_type": "execute_result",
          "data": {
            "text/plain": [
              "235"
            ]
          },
          "metadata": {},
          "execution_count": 59
        }
      ]
    },
    {
      "cell_type": "code",
      "source": [
        "sum_male = np.sum(Male)\n",
        "sum_female = np.sum(Female)\n",
        "rows_sum = np.array([sum_male , sum_female])"
      ],
      "metadata": {
        "id": "PwT1jkFpd50R"
      },
      "execution_count": 62,
      "outputs": []
    },
    {
      "cell_type": "code",
      "source": [
        "rows_sum"
      ],
      "metadata": {
        "colab": {
          "base_uri": "https://localhost:8080/"
        },
        "id": "MEwZl3mxezC_",
        "outputId": "3455737e-7b5d-4f3b-9101-acddc3743f0f"
      },
      "execution_count": 63,
      "outputs": [
        {
          "output_type": "execute_result",
          "data": {
            "text/plain": [
              "array([120, 115])"
            ]
          },
          "metadata": {},
          "execution_count": 63
        }
      ]
    },
    {
      "cell_type": "code",
      "source": [
        "sum_col = Male + Female\n",
        "sum_col"
      ],
      "metadata": {
        "colab": {
          "base_uri": "https://localhost:8080/"
        },
        "id": "p4X8SrnDeR2A",
        "outputId": "27d0b7ec-7e6b-409c-d5c0-66fccc949da0"
      },
      "execution_count": 61,
      "outputs": [
        {
          "output_type": "execute_result",
          "data": {
            "text/plain": [
              "array([75, 75, 45, 40])"
            ]
          },
          "metadata": {},
          "execution_count": 61
        }
      ]
    },
    {
      "cell_type": "code",
      "source": [
        "exp = []\n",
        "for i in rows_sum:\n",
        "  for j in sum_col:\n",
        "    value = i*j/N\n",
        "    exp.append(value)"
      ],
      "metadata": {
        "id": "if8xX4Aiedyq"
      },
      "execution_count": 66,
      "outputs": []
    },
    {
      "cell_type": "code",
      "source": [
        "exp"
      ],
      "metadata": {
        "colab": {
          "base_uri": "https://localhost:8080/"
        },
        "id": "v0ADArXbe7Ye",
        "outputId": "e660da3c-93af-4fdc-fb62-8be7407528be"
      },
      "execution_count": 67,
      "outputs": [
        {
          "output_type": "execute_result",
          "data": {
            "text/plain": [
              "[38.297872340425535,\n",
              " 38.297872340425535,\n",
              " 22.97872340425532,\n",
              " 20.425531914893618,\n",
              " 36.702127659574465,\n",
              " 36.702127659574465,\n",
              " 22.02127659574468,\n",
              " 19.574468085106382]"
            ]
          },
          "metadata": {},
          "execution_count": 67
        }
      ]
    },
    {
      "cell_type": "code",
      "source": [
        "obj = np.array([40, 45, 25, 10, 35, 30, 20, 30])\n",
        "obj"
      ],
      "metadata": {
        "colab": {
          "base_uri": "https://localhost:8080/"
        },
        "id": "59xWvIJSfNmi",
        "outputId": "bfe6141b-8bf0-4b06-f437-4fb45db74e21"
      },
      "execution_count": 70,
      "outputs": [
        {
          "output_type": "execute_result",
          "data": {
            "text/plain": [
              "array([40, 45, 25, 10, 35, 30, 20, 30])"
            ]
          },
          "metadata": {},
          "execution_count": 70
        }
      ]
    },
    {
      "cell_type": "code",
      "source": [
        "chi_square = np.sum(np.square(obj-exp)/exp)"
      ],
      "metadata": {
        "id": "ZhSJAIudfcD-"
      },
      "execution_count": 72,
      "outputs": []
    },
    {
      "cell_type": "code",
      "source": [
        "chi_square"
      ],
      "metadata": {
        "colab": {
          "base_uri": "https://localhost:8080/"
        },
        "id": "dz-J7nOkf50L",
        "outputId": "27f4bc5a-97b4-4fa0-e51f-afa11ce1fee4"
      },
      "execution_count": 73,
      "outputs": [
        {
          "output_type": "execute_result",
          "data": {
            "text/plain": [
              "13.788747987117553"
            ]
          },
          "metadata": {},
          "execution_count": 73
        }
      ]
    },
    {
      "cell_type": "code",
      "source": [],
      "metadata": {
        "id": "PZH5Ld4ngArV"
      },
      "execution_count": null,
      "outputs": []
    }
  ]
}